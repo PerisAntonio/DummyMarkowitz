{
 "cells": [
  {
   "cell_type": "code",
   "execution_count": null,
   "id": "5b349db6-e3ad-42e6-9dcc-07777979292f",
   "metadata": {},
   "outputs": [],
   "source": [
    "%matplotlib widget\n",
    "import pandas as pd\n",
    "from datetime import datetime, date, timedelta\n",
    "import numpy as np\n",
    "import json\n",
    "import warnings\n",
    "import matplotlib.pyplot as plt\n",
    "from IPython import display\n",
    "\n",
    "import main\n",
    "import funcs  \n",
    "warnings.filterwarnings(\"ignore\", message=\"delta_grad == 0.0. Check if the approximated function is linear.\")\n",
    "\n",
    "def plot(dataset,ticker,budget,datefrom,dateto):\n",
    "    dt=datefrom\n",
    "    dt2=dateto\n",
    "    initial_budget=budget\n",
    "    path='./Data/'\n",
    "    df=pd.read_parquet(path+'EWM/'+dataset)\n",
    "    prices=pd.read_parquet(path+'Parquet/'+dataset)\n",
    "    fechas=[x for x in list(df.index) if x>=dt and x<dt2]\n",
    "    s=[ticker]\n",
    "    final_df=pd.DataFrame(columns=['Markowitz','Benchmark'])\n",
    "    final_df.index.name='Fecha'\n",
    "    index=funcs.download_and_fill_index(ticker)\n",
    "    index0=index.loc[[fechas[0]]][0]\n",
    "    for f in fechas:\n",
    "        #print(f,budget)\n",
    "        partial_df=pd.DataFrame(columns=['Markowitz','Benchmark'],index=[f],data=[[budget/initial_budget,index.loc[[f]][0]/index0]])\n",
    "        partial_df.index.name='Fecha'\n",
    "        final_df=pd.concat([final_df,partial_df])\n",
    "        plt.gca().cla() \n",
    "        plt.plot(final_df.index,final_df['Markowitz'],label='Markowitz')\n",
    "        plt.plot(final_df.index,final_df['Benchmark'],label='Benchmark')\n",
    "        plt.legend()\n",
    "        display.clear_output(wait=True)\n",
    "        display.display(plt.gcf()) \n",
    "        j=funcs.generateJSON(dataset,f,budget)\n",
    "        sol=main.run(json.loads(j)['data'],[],[])\n",
    "        budget=np.sum(np.array(prices.shift(-1).loc[[f]])[0]*sol['real_optimization']['solution'])\n",
    "plot('IBEX','^IBEX',1000000,datetime(2020,1,1),datetime(2022,1,1))"
   ]
  }
 ],
 "metadata": {
  "kernelspec": {
   "display_name": "Python 3 (ipykernel)",
   "language": "python",
   "name": "python3"
  },
  "language_info": {
   "codemirror_mode": {
    "name": "ipython",
    "version": 3
   },
   "file_extension": ".py",
   "mimetype": "text/x-python",
   "name": "python",
   "nbconvert_exporter": "python",
   "pygments_lexer": "ipython3",
   "version": "3.9.12"
  }
 },
 "nbformat": 4,
 "nbformat_minor": 5
}
